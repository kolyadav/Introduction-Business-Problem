{
 "cells": [
  {
   "cell_type": "markdown",
   "metadata": {},
   "source": [
    "## Problem Description"
   ]
  },
  {
   "cell_type": "markdown",
   "metadata": {},
   "source": [
    "When you go to a certain it is sometimes hard find a place to visit apart from famous areas. It is obvious that every city has some places that are not widely known but considered to be one of the most visited places. Apply the data from www.foursquare.com we can get the data which shows the degree of popularity of a particular place. As a result, we can identify the places where it would beneficial to open some shop or restaurant and where not to open.\n",
    "\n",
    "The goal of this project is to analyze the popularity of places.\n",
    "\n",
    "The target audience of this project is citizens, visitors, businessmen in Toronto, Canada."
   ]
  },
  {
   "cell_type": "code",
   "execution_count": null,
   "metadata": {},
   "outputs": [],
   "source": []
  }
 ],
 "metadata": {
  "kernelspec": {
   "display_name": "Python 3",
   "language": "python",
   "name": "python3"
  },
  "language_info": {
   "codemirror_mode": {
    "name": "ipython",
    "version": 3
   },
   "file_extension": ".py",
   "mimetype": "text/x-python",
   "name": "python",
   "nbconvert_exporter": "python",
   "pygments_lexer": "ipython3",
   "version": "3.6.4"
  }
 },
 "nbformat": 4,
 "nbformat_minor": 2
}
