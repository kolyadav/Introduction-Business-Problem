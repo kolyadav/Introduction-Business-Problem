{
 "cells": [
  {
   "cell_type": "markdown",
   "metadata": {},
   "source": [
    "## Problem Description"
   ]
  },
  {
   "cell_type": "markdown",
   "metadata": {},
   "source": [
    "##  1. Introduction: \n",
    "Relocating to a big city anywhere in the world is no small endeavor and for a middle aged family this could be very daunting. New York City the big apple as she’s fondly called is one of  the premier cities in the world and is known as the finance center and a tourist hot-spot in North America and as such the real estate cost are some of the priciest. A quick shows that real estate price can vary by a large margin from neighborhood to neighborhood. As an example, a 2bedrooms condo in Central Park West, Upper West Side can cost up to $4.91 million on average; while in Inwood, Upper Manhattan, just 30 minutes away cost about $498 thousands.\n",
    "What features of a neighborhood affects the price of real estate to such extend? One hypothesis is that the surrounding venues can be a decision factor. Surely anyone, who has attempted to find an accommodation for rent or buy, has seen advertisements such as: This condo is located near the subway station, malls, supermarkets, dinners, etc. And it's likely that the price will be higher than others with locations not as \"convenient\". Can the venues surrounding an accommodation effect its price? And what kind of venues can affect the most? And by what margin? \n",
    "## 2 .The question to answer: \n",
    "This project will try to explore the neighborhoods of New York City to see:\n",
    " If the surrounding areas/landmarks can affect the price of real estate.  The kind of surrounding areas/landmarks, and to what extent affects the price.  Can we use the surrounding areas/landmarks to estimate the value of an accommodation over the average price of one area? And to what degree of accuracy? \n",
    "The result can be useful for home buyers/renters, who can roughly estimate the value of a target house over the average in a given area. It can also be of help to realtors as valuable data that shows where projects can be cited for long-term revenue/profitability\n"
   ]
  },
  {
   "cell_type": "code",
   "execution_count": null,
   "metadata": {},
   "outputs": [],
   "source": []
  }
 ],
 "metadata": {
  "kernelspec": {
   "display_name": "Python 3",
   "language": "python",
   "name": "python3"
  },
  "language_info": {
   "codemirror_mode": {
    "name": "ipython",
    "version": 3
   },
   "file_extension": ".py",
   "mimetype": "text/x-python",
   "name": "python",
   "nbconvert_exporter": "python",
   "pygments_lexer": "ipython3",
   "version": "3.6.4"
  }
 },
 "nbformat": 4,
 "nbformat_minor": 2
}
